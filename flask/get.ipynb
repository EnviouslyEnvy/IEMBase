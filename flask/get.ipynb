{
 "cells": [
  {
   "cell_type": "code",
   "execution_count": 1,
   "metadata": {},
   "outputs": [],
   "source": [
    "from bs4 import BeautifulSoup\n",
    "import pandas as pd\n",
    "import requests\n",
    "import rapidfuzz\n",
    "import sqlite3"
   ]
  },
  {
   "cell_type": "markdown",
   "metadata": {},
   "source": [
    "### Get data, formatting"
   ]
  },
  {
   "cell_type": "code",
   "execution_count": 2,
   "metadata": {},
   "outputs": [],
   "source": [
    "r = requests.get('https://crinacle.com/rankings/iems/')\n",
    "soup = BeautifulSoup(r.text, 'html.parser')\n",
    "\n",
    "# Find the table headers\n",
    "header_row = soup.find('tr')\n",
    "headers = [th.text for th in header_row.find_all('th')]\n",
    "rows = soup.find_all('tr') # Find all the table rows\n",
    "data=[]\n",
    "\n",
    "for row in rows: # Iterate through rows\n",
    "    tds = row.find_all('td') # Find all table data (td) elements within each table row 'tr'\n",
    "    row_data = [td.text for td in tds] # Extract row data from each td\n",
    "    data.append(row_data)\n",
    "# Create a pandas DataFrame for the ief ranking list.\n",
    "iefdf = pd.DataFrame(data, columns=headers)"
   ]
  },
  {
   "cell_type": "code",
   "execution_count": 3,
   "metadata": {},
   "outputs": [],
   "source": [
    "# Remove the space in the ' Rank' column\n",
    "iefdf=iefdf.rename(columns={' Rank':'Normalized Grade', 'Price (MSRP)':'Price'})\n",
    "# Formatting begins heres\n",
    "iefdf = iefdf.iloc[1:]\n",
    "iefdf = iefdf.reset_index()\n",
    "iefdf = iefdf.drop(iefdf.index[-1]) # drop last row, just blank formatting iirc"
   ]
  },
  {
   "cell_type": "code",
   "execution_count": 4,
   "metadata": {},
   "outputs": [],
   "source": [
    "iefdf=iefdf.rename(columns={'Technical Grade':'Tech Grade'})\n",
    "iefdf['Normalized Float'] = iefdf['Normalized Grade'].replace({'S+':9.0, 'S':8.7, 'S-':7.9, 'A+':7, 'A':6.5, 'A-':6, 'B+':5.5, 'B':5, 'B-':4.5, 'C+':4, 'C':3.5, 'C-':3, 'D+':2.5, 'D':2, 'D-':1.5, 'E+':1, 'E':0.5, 'E-':0, 'F':0})\n",
    "iefdf['Tone Float']=iefdf['Tone Grade'].replace({'S+':9.0, 'S':8.7, 'S-':7.9, 'A+':7, 'A':6.5, 'A-':6, 'B+':5.5, 'B':5, 'B-':4.5, 'C+':4, 'C':3.5, 'C-':3, 'D+':2.5, 'D':2, 'D-':1.5, 'E+':1, 'E':0.5, 'E-':0, 'F':0})\n",
    "\n",
    "iefdf['Tech Float']=iefdf['Tech Grade'].replace({'S+':9.0, 'S':8.7, 'S-':7.9, 'A+':7, 'A':6.5, 'A-':6, 'B+':5.5, 'B':5, 'B-':4.5, 'C+':4, 'C':3.5, 'C-':3, 'D+':2.5, 'D':2, 'D-':1.5, 'E+':1, 'E':0.5, 'E-':0, 'F':0})\n",
    "\n",
    "### FLOAT AND GRADE STUFF\n",
    "iefdf['Normalized Float and Grade'] = iefdf['Normalized Float'].astype(str) + ' (' + iefdf['Normalized Grade'].astype(str) + ')'\n",
    "iefdf['Tone Float and Grade'] = iefdf['Tone Float'].astype(str) + ' (' + iefdf['Tone Grade'].astype(str) + ')'\n",
    "iefdf['Tech Float and Grade'] = iefdf['Tech Float'].astype(str) + ' (' + iefdf['Tech Grade'].astype(str) + ')'\n",
    "\n",
    "# Removal of redunant or unnecessary cols.\n",
    "iefdf = iefdf.drop(columns=['index', 'Value Rating', 'Pricesort', 'Ranksort', 'Tonesort', 'Techsort'])\n",
    "\n",
    "# Remove all rows containing 'KZ' or 'CCA' or 'Joyodio'\n",
    "iefdf['Model']=iefdf['Model'].astype(str)\n",
    "iefdf = iefdf[~iefdf['Model'].str.contains('KZ')]\n",
    "iefdf = iefdf[~iefdf['Model'].str.contains('CCA')]\n",
    "iefdf = iefdf[~iefdf['Model'].str.contains('Joyodio')]\n",
    "\n",
    "# Add a col. \"list\" that will be used to identify the list the IEM is from.\n",
    "# This will be used later to identify the IEMs that are in both lists.\n",
    "# Use iefdf['list'] = 'ief' to add the list column to the iefdf DataFrame.\n",
    "iefdf['List'] = 'ief'"
   ]
  },
  {
   "cell_type": "code",
   "execution_count": 5,
   "metadata": {},
   "outputs": [
    {
     "name": "stderr",
     "output_type": "stream",
     "text": [
      "C:\\Users\\evanc\\AppData\\Local\\Temp\\ipykernel_22744\\2531655457.py:8: FutureWarning: Passing literal html to 'read_html' is deprecated and will be removed in a future version. To read from a literal string, wrap it in a 'StringIO' object.\n",
      "  antdf = pd.read_html(str(table), header=0)[0]\n"
     ]
    }
   ],
   "source": [
    "# Make a request to Antdroid's spreadsheet, parse with bs4 and create dataframe\n",
    "r = requests.get(\"https://docs.google.com/spreadsheets/d/e/2PACX-1vTEdqzrEci3pGaAOu09zmYOhBtlrEPRjds3jXVgOuaN7vWQ7JWM1FNQEBeHqiPq7A/pubhtml\")\n",
    "r_text = r.text\n",
    "\n",
    "soup = BeautifulSoup(r_text, 'html.parser')\n",
    "tables = soup.find_all('table')\n",
    "table = tables[0]\n",
    "antdf = pd.read_html(str(table), header=0)[0]"
   ]
  },
  {
   "cell_type": "code",
   "execution_count": 6,
   "metadata": {},
   "outputs": [],
   "source": [
    "### Formatting begins here ###\n",
    "antdf = antdf.drop(columns=['Unnamed: 0', 'Unnamed: 1', 'Unnamed: 4', 'Unnamed: 5', 'Unnamed: 10', 'Unnamed: 11'])\n",
    "# Make second row header, then drop first two rows\n",
    "antdf.columns = antdf.iloc[1]\n",
    "antdf=antdf.iloc[2:]\n",
    "\n",
    "# Create col. called Normalized Grade Float taking value in the Normalized Grade col and turning it into a float.\n",
    "# Where S+=9, S=8.7, S-=7.9, A+=7, A=6.5, A-=6, B+=5.5, B=5, B-=4.5, C+=4, C=3.5, C-=3, D+=2.5, D=2, D-=1.5, E+=1, E=0.5, E-=0.2, F+=0.1, F=0, F-=0.\n",
    "# I didn't put too much thought into the values. I should look into it more.\n",
    "antdf['Normalized Float'] = antdf['Normalized Grade'].replace({'S+':9.0, 'S':8.7, 'S-':7.9, 'A+':7, 'A':6.5, 'A-':6, 'B+':5.5, 'B':5, 'B-':4.5, 'C+':4, 'C':3.5, 'C-':3, 'D+':2.5, 'D':2, 'D-':1.5, 'E+':1, 'E':0.5, 'E-':0.2, 'F+':0.1, 'F':0, 'F-':0})\n",
    "\n",
    "# Rename technical score to tech grade and Tonality Score to Tone Grade\n",
    "antdf = antdf.rename(columns={'Technical Score':'Tech Grade', 'Tonality Score':'Tone Grade', 'Preference Score':'Preference Grade', 'IEM':'Model', 'Price (USD)':'iefdf'})\n",
    "\n",
    "# Also assign a float value to the Tone Grade and Tech Grade\n",
    "antdf['Tone Float'] = antdf['Tone Grade'].replace({'S+':9.0, 'S':8.7, 'S-':7.9, 'A+':7, 'A':6.5, 'A-':6, 'B+':5.5, 'B':5, 'B-':4.5, 'C+':4, 'C':3.5, 'C-':3, 'D+':2.5, 'D':2, 'D-':1.5, 'E+':1, 'E':0.5, 'E-':0.2, 'F+':0.1, 'F':0, 'F-':0})\n",
    "antdf['Tech Float'] = antdf['Tech Grade'].replace({'S+':9.0, 'S':8.7, 'S-':7.9, 'A+':7, 'A':6.5, 'A-':6, 'B+':5.5, 'B':5, 'B-':4.5, 'C+':4, 'C':3.5, 'C-':3, 'D+':2.5, 'D':2, 'D-':1.5, 'E+':1, 'E':0.5, 'E-':0.2, 'F+':0.1, 'F':0, 'F-':0})\n",
    "antdf['Preference Float'] = antdf['Preference Grade'].replace({'S+':9.0, 'S':8.7, 'S-':7.9, 'A+':7, 'A':6.5, 'A-':6, 'B+':5.5, 'B':5, 'B-':4.5, 'C+':4, 'C':3.5, 'C-':3, 'D+':2.5, 'D':2, 'D-':1.5, 'E+':1, 'E':0.5, 'E-':0.2, 'F+':0.1, 'F':0, 'F-':0})\n",
    "\n",
    "### FLOAT AND GRADE STUFF.\n",
    "# Create a column that combines combines the Normalized Grade combines the normalized grade and the normalized grade float, putting the float in brackets.\n",
    "antdf['Normalized Float and Grade'] = antdf['Normalized Float'].astype(str) + ' (' + antdf['Normalized Grade'].astype(str) + ')'\n",
    "antdf['Tone Float and Grade'] = antdf['Tone Float'].astype(str) + ' (' + antdf['Tone Grade'].astype(str) + ')'\n",
    "antdf['Tech Float and Grade'] = antdf['Tech Float'].astype(str) + ' (' + antdf['Tech Grade'].astype(str) + ')'\n",
    "antdf['Preference Float and Grade'] = antdf['Preference Float'].astype(str) + ' (' + antdf['Preference Grade'].astype(str) + ')'\n",
    "\n",
    "antdf = antdf[~antdf['Model'].str.contains('KZ')]\n",
    "antdf = antdf[~antdf['Model'].str.contains('CCA')]\n",
    "antdf = antdf[~antdf['Model'].str.contains('Joyodio')]\n",
    "\n",
    "# Add list column for antdf\n",
    "antdf['List'] = 'ant'"
   ]
  },
  {
   "cell_type": "code",
   "execution_count": 7,
   "metadata": {},
   "outputs": [],
   "source": [
    "# Read Precog's spreadsheet\n",
    "cogdf = pd.read_csv('https://docs.google.com/spreadsheets/d/1pUCELfWO-G33u82H42J8G_WX1odnOYBJsBNbVskQVt8/export?format=csv')"
   ]
  },
  {
   "cell_type": "code",
   "execution_count": 8,
   "metadata": {},
   "outputs": [],
   "source": [
    "### Formatting begins here ###\n",
    "# drop cols 1, 2, 3, 17, 18, 19, 20, 21, 23, 24\n",
    "cogdf = cogdf.drop(columns=['Unnamed: 0', 'Rank', 'Unnamed: 3', 'Unnamed: 17', 'Unnamed: 18', 'Unnamed: 19', 'Unnamed: 20', 'Unnamed: 21', 'Unnamed: 22', 'Unnamed: 23', 'Based On'])\n",
    "cogdf = cogdf.iloc[:cogdf[cogdf['IEM'].isnull()].index[0]] # Include no rows after the first row with an empty IEM column."
   ]
  },
  {
   "cell_type": "code",
   "execution_count": 9,
   "metadata": {},
   "outputs": [],
   "source": [
    "# Make the \"Final Score\" column float type\n",
    "# First remove any rows with a non-float value in the Final Score column\n",
    "# If they contain a letter:\n",
    "cogdf = cogdf[~cogdf['Final Score'].str.contains('[a-zA-Z]', na=False)]\n",
    "# If they are empty:\n",
    "cogdf = cogdf[cogdf['Final Score'].notna()]\n",
    "\n",
    "cogdf['Final Score'] = cogdf['Final Score'].astype(float)\n",
    "cogdf['Tonality'] = cogdf['Tonality'].astype(float)\n",
    "cogdf['Tech'] = cogdf['Tech'].astype(float)\n",
    "cogdf['Bias '] = cogdf['Bias '].astype(float)"
   ]
  },
  {
   "cell_type": "code",
   "execution_count": 10,
   "metadata": {},
   "outputs": [],
   "source": [
    "# Rename 'Final Score' to 'Normalized Float', Tonality to 'Tone Float', Tech to 'Tech Float', and 'Bias ' to 'Preference Float'\n",
    "cogdf=cogdf.rename(columns={'IEM':'Model', 'Final Score':'Normalized Float', 'Tonality':'Tone Float', 'Tech':'Tech Float', 'Bias ':'Preference Float'})\n",
    "\n",
    "# Adding 'Grade' col that takes the float and assigns it to a grade depending\n",
    "# on whether it's greater or equal to a value for a grade.\n",
    "cogdf['Normalized Grade'] = cogdf['Normalized Float'].apply(lambda x: 'S' if x >= 8.7 else 'S-' if x >= 7.9 else 'A+' if x >= 7 else 'A' if x >= 6.5 else 'A-' if x >= 6 else 'B+' if x >= 5.5 else 'B' if x >= 5 else 'B-' if x >= 4.5 else 'C+' if x >= 4 else 'C' if x >= 3.5 else 'C-' if x >= 3 else 'D+' if x >= 2.5 else 'D' if x >= 2 else 'D-' if x >= 1.5 else 'E+' if x >= 1 else 'E' if x >= 0.5 else 'E-' if x >= 0.2 else 'F+' if x >= 0.1 else 'F')\n",
    "cogdf['Tone Grade'] = cogdf['Tone Float'].apply(lambda x: 'S' if x >= 8.7 else 'S-' if x >= 7.9 else 'A+' if x >= 7 else 'A' if x >= 6.5 else 'A-' if x >= 6 else 'B+' if x >= 5.5 else 'B' if x >= 5 else 'B-' if x >= 4.5 else 'C+' if x >= 4 else 'C' if x >= 3.5 else 'C-' if x >= 3 else 'D+' if x >= 2.5 else 'D' if x >= 2 else 'D-' if x >= 1.5 else 'E+' if x >= 1 else 'E' if x >= 0.5 else 'E-' if x >= 0.2 else 'F+' if x >= 0.1 else 'F')\n",
    "cogdf['Tech Grade'] = cogdf['Tech Float'].apply(lambda x: 'S' if x >= 8.7 else 'S-' if x >= 7.9 else 'A+' if x >= 7 else 'A' if x >= 6.5 else 'A-' if x >= 6 else 'B+' if x >= 5.5 else 'B' if x >= 5 else 'B-' if x >= 4.5 else 'C+' if x >= 4 else 'C' if x >= 3.5 else 'C-' if x >= 3 else 'D+' if x >= 2.5 else 'D' if x >= 2 else 'D-' if x >= 1.5 else 'E+' if x >= 1 else 'E' if x >= 0.5 else 'E-' if x >= 0.2 else 'F+' if x >= 0.1 else 'F')\n",
    "cogdf['Preference Grade'] = cogdf['Preference Float'].apply(lambda x: 'S' if x >= 8.7 else 'S-' if x >= 7.9 else 'A+' if x >= 7 else 'A' if x >= 6.5 else 'A-' if x >= 6 else 'B+' if x >= 5.5 else 'B' if x >= 5 else 'B-' if x >= 4.5 else 'C+' if x >= 4 else 'C' if x >= 3.5 else 'C-' if x >= 3 else 'D+' if x >= 2.5 else 'D' if x >= 2 else 'D-' if x >= 1.5 else 'E+' if x >= 1 else 'E' if x >= 0.5 else 'E-' if x >= 0.2 else 'F+' if x >= 0.1 else 'F')\n",
    "cogdf['Normalized Float and Grade'] = cogdf['Normalized Float'].astype(str) + ' (' + cogdf['Normalized Grade'].astype(str) + ')'\n",
    "cogdf['Tone Float and Grade'] = cogdf['Tone Float'].astype(str) + ' (' + cogdf['Tone Grade'].astype(str) + ')'\n",
    "cogdf['Tech Float and Grade'] = cogdf['Tech Float'].astype(str) + ' (' + cogdf['Tech Grade'].astype(str) + ')'\n",
    "cogdf['Preference Float and Grade'] = cogdf['Preference Float'].astype(str) + ' (' + cogdf['Preference Grade'].astype(str) + ')'\n",
    "\n",
    "# Remove \" ⭑\" at the end of any IEM names\n",
    "cogdf['Model']=cogdf['Model'].astype(str)\n",
    "cogdf['Model'] = cogdf['Model'].str.replace(' ⭑', '')\n",
    "\n",
    "cogdf = cogdf[~cogdf['Model'].str.contains('KZ')]\n",
    "cogdf = cogdf[~cogdf['Model'].str.contains('CCA')]\n",
    "cogdf = cogdf[~cogdf['Model'].str.contains('Joyodio')]\n",
    "\n",
    "# Add list column for cogdf\n",
    "cogdf['List'] = 'cog'"
   ]
  },
  {
   "cell_type": "code",
   "execution_count": 11,
   "metadata": {},
   "outputs": [],
   "source": [
    "gizdf=pd.read_csv(\"https://docs.google.com/spreadsheets/d/1HFCuUzWdheP5qbxIJhyezJ53hvwM0wMrptVxKo49AFI/export?format=csv\")\n",
    "\n",
    "### Formatting begins here ###\n",
    "gizdf.columns = gizdf.iloc[0]\n",
    "gizdf = gizdf.iloc[1:]\n",
    "gizdf = gizdf[gizdf['NAME'].notna()]\n",
    "gizdf = gizdf.reset_index(drop=True)\n",
    "\n",
    "# For now, I'll only look at the first 6 columns because formatting the rest isn't up my alley right now.\n",
    "gizdf = gizdf.drop(gizdf.columns[6:], axis=1)\n",
    "gizdf = gizdf.rename(columns={'NAME':'Model', 'RANKING':'Normalized Grade', 'PRICE (USD)':'Price', \"Doesn't effect rank (max 10)\":'Preference Float'})"
   ]
  },
  {
   "cell_type": "code",
   "execution_count": 12,
   "metadata": {},
   "outputs": [],
   "source": [
    "gizdf['Normalized Float'] = gizdf['Normalized Grade'].replace({'S+':9.0, 'S':8.5, 'S-':8.0, 'A+':7.5, 'A':7.0, 'A-':6.5, 'B+':6.0, 'B':5.5, 'B-':5.0, 'C+':4.5, 'C':4.0, 'C-':3.5, 'D+':3.0, 'D':2.5, 'D-':2.0, 'E+':1.5, 'E':1.0, 'E-':0.5, 'F':0})\n",
    "\n",
    "gizdf['Normalized Float and Grade'] = gizdf['Normalized Float'].astype(str) + ' (' + gizdf['Normalized Grade'].astype(str) + ')'\n",
    "emoji_pattern = r'([\\U00002600-\\U000027BF]|\\U0001f300-\\U0001f64F|\\U0001f680-\\U0001f6FF|\\U0001F700-\\U0001F77F|\\U0001F780-\\U0001F7FF|\\U0001F800-\\U0001F8FF|\\U0001F900-\\U0001F9FF|\\U0001FA00-\\U0001FA6F|\\U0001FA70-\\U0001FAFF|\\U00002B50)'\n",
    "\n",
    "gizdf['Price'] = gizdf['Price'].str.replace(emoji_pattern, '', regex=True)\n",
    "gizdf['Preference Float']=gizdf['Preference Float'].str.replace(emoji_pattern, '', regex=True)\n",
    "gizdf['Preference Float'] = gizdf['Preference Float'].astype(float)\n",
    "gizdf['Preference Grade'] = gizdf['Preference Float'].apply(lambda x: 'S+' if x>=9.0 else 'S' if x >= 8.7 else 'S-' if x >= 7.9 else 'A+' if x >= 7 else 'A' if x >= 6.5 else 'A-' if x >= 6 else 'B+' if x >= 5.5 else 'B' if x >= 5 else 'B-' if x >= 4.5 else 'C+' if x >= 4 else 'C' if x >= 3.5 else 'C-' if x >= 3 else 'D+' if x >= 2.5 else 'D' if x >= 2 else 'D-' if x >= 1.5 else 'E+' if x >= 1 else 'E' if x >= 0.5 else 'E-' if x >= 0.2 else 'F+' if x >= 0.1 else 'F')\n",
    "\n",
    "# Combine pros and cons into comments col.\n",
    "def combine_pros_and_cons(row):\n",
    "    if pd.isna(row['PROS']) and pd.isna(row['CONS']):\n",
    "        return 'No comments'\n",
    "    # If there are only pros or cons, return what is available.\n",
    "    elif pd.isna(row['PROS']):\n",
    "        return row['CONS']\n",
    "    elif pd.isna(row['CONS']):\n",
    "        return row['PROS']\n",
    "    # If there are both pros and cons return both.\n",
    "    else:\n",
    "        return 'PROS: ' + row['PROS'] + ' CONS: ' + row['CONS']\n",
    "gizdf['Comments'] = gizdf.apply(combine_pros_and_cons, axis=1)\n",
    "\n",
    "# remove the first row\n",
    "gizdf=gizdf.iloc[1:]\n",
    "\n",
    "gizdf=gizdf.reset_index(drop=True)\n",
    "gizdf=gizdf.astype(str).apply(lambda x: x.str.encode('ascii', 'ignore').str.decode('ascii'))\n",
    "\n",
    "# remove any rows where any column contains string \"Re-Rank\"\n",
    "gizdf = gizdf[~gizdf['Normalized Grade'].str.contains('Re-Rank')]\n",
    "gizdf = gizdf[~gizdf['Normalized Grade'].str.contains('Total IEMs Ranked')]\n",
    "\n",
    "# remove any rows where the model name is \"nan\" or empty, or grade is ''.\n",
    "gizdf = gizdf[gizdf['Model'] != 'nan']\n",
    "gizdf = gizdf[gizdf['Model'] != '']\n",
    "gizdf = gizdf[gizdf['Normalized Grade'] != '']\n",
    "\n",
    "gizdf = gizdf[~gizdf['Model'].str.contains('KZ')]\n",
    "gizdf = gizdf[~gizdf['Model'].str.contains('CCA')]\n",
    "gizdf = gizdf[~gizdf['Model'].str.contains('Joyodio')]\n",
    "\n",
    "# Add list column for gizdf\n",
    "gizdf['List'] = 'giz'"
   ]
  },
  {
   "cell_type": "markdown",
   "metadata": {},
   "source": [
    "### Combine dataframes"
   ]
  },
  {
   "cell_type": "code",
   "execution_count": 13,
   "metadata": {},
   "outputs": [],
   "source": [
    "# congregate all the dataframes into one dataframe\n",
    "frames = pd.concat([iefdf, antdf, cogdf, gizdf],axis=0)\n",
    "# Convert 'Model' column to string\n",
    "frames['Model'] = frames['Model'].astype(str)\n",
    "# Remove any rows where the 'Model' column is empty\n",
    "frames = frames[frames['Model'] != 'nan']\n",
    "frames['Comments'] = frames['Comments'].astype(str)\n",
    "# Turn \"Normalized/Tone/Tech/Preference Float\" columns into float type\n",
    "frames['Normalized Float'] = frames['Normalized Float'].astype(float)\n",
    "frames['Tone Float'] = frames['Tone Float'].astype(float)\n",
    "frames['Tech Float'] = frames['Tech Float'].astype(float)\n",
    "frames['Preference Float'] = frames['Preference Float'].astype(float)"
   ]
  },
  {
   "cell_type": "code",
   "execution_count": 14,
   "metadata": {},
   "outputs": [],
   "source": [
    "name_variations={\n",
    "    \"Moondrop B2: Dusk\":\"Moondrop Blessing 2: Dusk\",\n",
    "    \"Moondrop Dusk\":\"Moondrop Blessing 2: Dusk\",\n",
    "    \"Moondrop Blessing 2 Dusk\":\"Moondrop Blessing 2: Dusk\",\n",
    "    \"Elysian Annihilator\":\"Elysian Annihilator 2021\",\n",
    "    \"Elysian Annihilator (2021)\":\"Elysian Annihilator 2021\",\n",
    "    \"Campfire Andromeda\":\"Campfire Andromeda 2019\",\n",
    "    \"Campfire Andromeda (2020)\":\"Campfire Andromeda 2020\",\n",
    "    \"Campfire Dorado (2020)\":\"Campfire Dorado 2020\",\n",
    "    \"Campfire Andromeda (S)\": \"Campfire Andromeda S\",\n",
    "    \"QDC Anole VX\":\"qdc 8SL/Gemini/Anole VX\",\n",
    "    \"qdc Anole VX\":\"qdc 8SL/Gemini/Anole VX\",\n",
    "    \"Shuoer S12\":\"LETSHUOER S12\",\n",
    "    \"Apple Airpods Pro 2nd Gen\":\"Apple Airpods Pro 2\",\n",
    "    \"ThieAudio Legacy 2 (L2)\":\"ThieAudio Legacy 2\",\n",
    "    \"ThieAudio Legacy 3 (L3)\":\"ThieAudio Legacy 3\",\n",
    "    \"ThieAudio Legacy 4 (L4)\":\"ThieAudio Legacy 4\",\n",
    "    \"ThieAudio Legacy 5 (L5)\":\"ThieAudio Legacy 5\",\n",
    "    \"ThieAudio Legacy 9 (L9)\":\"ThieAudio Legacy 9\",\n",
    "    \"Nothing Ear (1)\": \"Nothing Ear 1\",\n",
    "    \"Nothing Ear (2)\": \"Nothing Ear 2\",\n",
    "    \"Subtonic Storm \":\"Subtonic Storm\", # I'll get around to deleting extra spaces after the name later.\n",
    "    \"64 Audio U12T (m15)\":\"64 Audio U12T\",\n",
    "    \"64 Audio U12t\":\"64 Audio U12T\",\n",
    "    \"SeeAudio x Crinacle Yume: Midnight\":\"SeeAudio Yume Midnight\",\n",
    "    \"SeeAudio x Crinacle Yume Midnight\":\"SeeAudio Yume Midnight\",\n",
    "    \"Fiio x Crinacle FHE: Eclipse\":\"Fiio FHE Eclipse\",\n",
    "    \"Fiio x Crinacle FHE Eclipse\":\"Fiio FHE Eclipse\"\n",
    "    }\n",
    "frames['Model'] = frames['Model'].replace(name_variations)\n",
    "\n",
    "# Viento jank\n",
    "frames['Model'] = frames['Model'].apply(lambda x: \"Hidition Viento-B\" if x and (\"Viento\" in x) and (\"B\" in x) else x)"
   ]
  },
  {
   "cell_type": "code",
   "execution_count": 15,
   "metadata": {},
   "outputs": [],
   "source": [
    "# Create a column containing the model names without the first word, as it is often the brand name.\n",
    "frames['Model No Brand'] = frames['Model'].str.split(' ').str[1:].str.join(' ')\n",
    "def fuzz_match(row):\n",
    "    model = row['Model No Brand']\n",
    "    match = rapidfuzz.process.extractOne(model, frames['Model No Brand'], score_cutoff=90)\n",
    "    if match is not None:\n",
    "        return match[0]\n",
    "    else:\n",
    "        return model\n",
    "# Apply the fuzz_match function to the Model column\n",
    "frames['Model No Brand'] = frames.apply(fuzz_match, axis=1)\n",
    "# Change the everything after the first word in the Model column to the result of the fuzz_match function\n",
    "frames['Model'] = frames['Model'].str.split(' ').str[0] + ' ' + frames['Model No Brand']"
   ]
  },
  {
   "cell_type": "code",
   "execution_count": 16,
   "metadata": {},
   "outputs": [],
   "source": [
    "# reset index\n",
    "frames=frames.reset_index(drop=True)\n",
    "\n",
    "unique=frames['Model'].unique()\n",
    "iefmask=frames['List']=='ief'\n",
    "cogmask=frames['List']=='cog'\n",
    "antmask=frames['List']=='ant'\n",
    "gizmask=frames['List']=='giz'"
   ]
  },
  {
   "cell_type": "code",
   "execution_count": 17,
   "metadata": {},
   "outputs": [],
   "source": [
    "# Remove all rows where the model is unique to a list\n",
    "# Identify models present in more than one list\n",
    "unique_ief = set(frames[iefmask]['Model']) - set(frames[~iefmask]['Model'])\n",
    "unique_cog = set(frames[cogmask]['Model']) - set(frames[~cogmask]['Model'])\n",
    "unique_ant = set(frames[antmask]['Model']) - set(frames[~antmask]['Model'])\n",
    "unique_giz = set(frames[gizmask]['Model']) - set(frames[~gizmask]['Model'])\n",
    "\n",
    "# Add lists together to get all unique models\n",
    "all_unique_models = unique_ief.union(unique_cog).union(unique_ant).union(unique_giz)\n",
    "\n",
    "trimmedframes = frames[~frames['Model'].isin(all_unique_models)]"
   ]
  },
  {
   "cell_type": "markdown",
   "metadata": {},
   "source": [
    "### Combine ratings"
   ]
  },
  {
   "cell_type": "code",
   "execution_count": 18,
   "metadata": {},
   "outputs": [],
   "source": [
    "# Create dataframe 'combined', which has the average 'Normalized Float', 'Tone Float', 'Tech Float', 'Preference Float' for each 'Model', as well as the comments from each list.\n",
    "combined = trimmedframes.groupby('Model')[['Normalized Float', 'Tone Float', 'Tech Float', 'Preference Float']].mean()\n",
    "combined.reset_index(inplace=True)\n",
    "\n",
    "# Remove all uneeded columns\n",
    "combined = combined.filter(['Model', 'Normalized Float', 'Tone Float', 'Tech Float', 'Preference Float', 'Comments', 'List'])\n",
    "combined['Normalized Float'] = combined['Normalized Float'].round(2)\n",
    "combined['Tone Float'] = combined['Tone Float'].round(2)\n",
    "combined['Tech Float'] = combined['Tech Float'].round(2)\n",
    "combined['Preference Float'] = combined['Preference Float'].round(2)"
   ]
  },
  {
   "cell_type": "code",
   "execution_count": 19,
   "metadata": {},
   "outputs": [],
   "source": [
    "maxidx = trimmedframes.groupby('Model')['Normalized Float'].idxmax()\n",
    "\n",
    "# Use the indices to get the corresponding rows from the DataFrame\n",
    "maxframe = trimmedframes.loc[maxidx]\n",
    "\n",
    "minidx = trimmedframes.groupby('Model')['Normalized Float'].idxmin()\n",
    "minframe = trimmedframes.loc[minidx]"
   ]
  },
  {
   "cell_type": "code",
   "execution_count": 20,
   "metadata": {},
   "outputs": [],
   "source": [
    "# Map the 'Model' column in 'combined' to fetch corresponding 'Comment'\n",
    "\n",
    "combined['Max Comments'] = combined['Model'].map(maxframe.set_index('Model')['Comments'])\n",
    "combined['maxlist'] = combined['Model'].map(maxframe.set_index('Model')['List'])\n",
    "combined['Min Comments'] = combined['Model'].map(minframe.set_index('Model')['Comments'])\n",
    "combined['minlist'] = combined['Model'].map(minframe.set_index('Model')['List'])\n",
    "\n",
    "# If 'Min Comments' is the same as 'Max Comments', then set them to N/A\n",
    "combined.loc[combined['Min Comments']==combined['Max Comments'], 'Min Comments'] = \"N/A\"\n",
    "combined.loc[combined['Max Comments']==combined['Min Comments'], 'Max Comments'] = \"N/A\"\n",
    "\n",
    "# If '' or 'nan', then set 'Min Comments' to \"N/A\"\n",
    "combined.loc[combined['Min Comments']=='nan', 'Min Comments'] = \"N/A\"\n",
    "combined.loc[combined['Max Comments']=='nan', 'Max Comments'] = \"N/A\"\n",
    "combined.loc[combined['Min Comments']=='', 'Min Comments'] = \"N/A\"\n",
    "combined.loc[combined['Max Comments']=='', 'Max Comments'] = \"N/A\"\n",
    "\n",
    "# If 'minlist' is the same as 'maxlist', then set minlist and maxlist to N/A\n",
    "combined.loc[combined['minlist']==combined['maxlist'], 'minlist'] = \"N/A\"\n",
    "combined.loc[combined['maxlist']==combined['minlist'], 'maxlist'] = \"N/A\"\n"
   ]
  },
  {
   "cell_type": "code",
   "execution_count": 21,
   "metadata": {},
   "outputs": [],
   "source": [
    "# Make sure all columns are correct type.\n",
    "combined['Model'] = combined['Model'].astype(str)\n",
    "combined['Normalized Float'] = combined['Normalized Float'].astype(float)\n",
    "combined['Tone Float'] = combined['Tone Float'].astype(float)\n",
    "combined['Tech Float'] = combined['Tech Float'].astype(float)\n",
    "combined['Preference Float'] = combined['Preference Float'].astype(float)\n",
    "combined['Max Comments'] = combined['Max Comments'].astype(str)\n",
    "combined['maxlist'] = combined['maxlist'].astype(str)\n",
    "combined['Min Comments'] = combined['Min Comments'].astype(str)\n",
    "combined['minlist'] = combined['minlist'].astype(str)"
   ]
  },
  {
   "cell_type": "code",
   "execution_count": 22,
   "metadata": {},
   "outputs": [],
   "source": [
    "# Rename columns to use camelcase because I have no foresight and I'm too lazy to change this earlier.\n",
    "combined = combined.rename(columns={'Model':'model', 'Normalized Float':'normalizedFloat',\n",
    "'Tone Float':'toneFloat', 'Tech Float':'techFloat', 'Preference Float':'preferenceFloat',\n",
    "'Max Comments':'maxComments', 'maxlist':'maxList', 'Min Comments':'minComments', 'minlist':'minList'})"
   ]
  }
 ],
 "metadata": {
  "kernelspec": {
   "display_name": "Python 3",
   "language": "python",
   "name": "python3"
  },
  "language_info": {
   "codemirror_mode": {
    "name": "ipython",
    "version": 3
   },
   "file_extension": ".py",
   "mimetype": "text/x-python",
   "name": "python",
   "nbconvert_exporter": "python",
   "pygments_lexer": "ipython3",
   "version": "3.10.7"
  },
  "orig_nbformat": 4
 },
 "nbformat": 4,
 "nbformat_minor": 2
}
